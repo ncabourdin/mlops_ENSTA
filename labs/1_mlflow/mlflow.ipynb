{
 "cells": [
  {
   "cell_type": "markdown",
   "source": [
    "# MLOPs on GCP course - MLFlow introduction"
   ],
   "metadata": {},
   "attachments": {}
  },
  {
   "cell_type": "markdown",
   "source": [
    "<img src=https://www.ensta-paris.fr/profiles/createur_profil/themes/createur/dist/images/logo_ensta_new.jpg.pagespeed.ce.ERsGv8BS3M.jpg width=\"200\">"
   ]
    "<img src=https://www.headmind.com/wp-content/uploads/2024/01/logo_dark.png width=\"200\">"
   ],
   "metadata": {}
  },
  {
   "cell_type": "markdown",
   "source": [
    "*Context*\n",
    "\n",
    "Credit risk is the risk that a customer doesn't pay back the money they borrowed from a bank. Banks do credit risk modelling to minimize their expected credit loss. ML models can be trained to classify whether a customer is at risk or not.\n",
    "\n",
    "*Dataset*\n",
    "\n",
    "The German Credit Risk dataset is used.\n",
    "\n",
    "The dataset is anonymized because it contains personal identifiable information (PII) on the bank customers. The features are described in the [dataset documentation](https://archive.ics.uci.edu/dataset/144/statlog+german+credit+data).\n",
    "\n",
    "*Objectives*\n",
    "\n",
    "- Dataset exploration : Using EDA, explore the relevant data \n",
    "- ML implementation : train a Random Forest Classifier with Optuna \n",
    "\n",
    "*Notebook made by Headmind Partners AI & Blockchain*"
   ],
   "metadata": {
    "collapsed": false,
    "pycharm": {
     "name": "#%% md\n"
    }
   },
   "attachments": {}
  },
  {
   "cell_type": "markdown",
   "source": [
    "## Libraries"
   ],
   "metadata": {
    "collapsed": false,
    "pycharm": {
     "name": "#%% md\n"
    }
   }
  },
  {
   "cell_type": "markdown",
   "source": [
    "### You should have python 3.11.0 installed to run this lab and others correctly !"
   ],
   "metadata": {}
  },
  {
   "cell_type": "code",
   "execution_count": 7,
   "metadata": {
    "collapsed": false,
    "pycharm": {
     "name": "#%%\n"
    }
   },
   "outputs": [
    {
     "name": "stdout",
     "output_type": "stream",
     "text": [
      "Requirement already satisfied: mlflow==2.20.3 in c:\\users\\igabay\\appdata\\local\\programs\\python\\python39\\lib\\site-packages (from -r requirements.txt (line 1)) (2.20.3)Note: you may need to restart the kernel to use updated packages.\n",
      "\n",
      "Requirement already satisfied: seaborn==0.13.2 in c:\\users\\igabay\\appdata\\local\\programs\\python\\python39\\lib\\site-packages (from -r requirements.txt (line 2)) (0.13.2)\n",
      "Requirement already satisfied: optuna==4.2.1 in c:\\users\\igabay\\appdata\\local\\programs\\python\\python39\\lib\\site-packages (from -r requirements.txt (line 3)) (4.2.1)\n",
      "Requirement already satisfied: mlflow-skinny==2.20.3 in c:\\users\\igabay\\appdata\\local\\programs\\python\\python39\\lib\\site-packages (from mlflow==2.20.3->-r requirements.txt (line 1)) (2.20.3)\n",
      "Requirement already satisfied: Flask<4 in c:\\users\\igabay\\appdata\\local\\programs\\python\\python39\\lib\\site-packages (from mlflow==2.20.3->-r requirements.txt (line 1)) (2.2.5)\n",
      "Requirement already satisfied: Jinja2<4,>=3.0 in c:\\users\\igabay\\appdata\\local\\programs\\python\\python39\\lib\\site-packages (from mlflow==2.20.3->-r requirements.txt (line 1)) (3.1.2)\n",
      "Requirement already satisfied: alembic!=1.10.0,<2 in c:\\users\\igabay\\appdata\\local\\programs\\python\\python39\\lib\\site-packages (from mlflow==2.20.3->-r requirements.txt (line 1)) (1.15.2)\n",
      "Requirement already satisfied: docker<8,>=4.0.0 in c:\\users\\igabay\\appdata\\local\\programs\\python\\python39\\lib\\site-packages (from mlflow==2.20.3->-r requirements.txt (line 1)) (6.1.3)\n",
      "Requirement already satisfied: graphene<4 in c:\\users\\igabay\\appdata\\local\\programs\\python\\python39\\lib\\site-packages (from mlflow==2.20.3->-r requirements.txt (line 1)) (3.4.3)\n",
      "Requirement already satisfied: markdown<4,>=3.3 in c:\\users\\igabay\\appdata\\local\\programs\\python\\python39\\lib\\site-packages (from mlflow==2.20.3->-r requirements.txt (line 1)) (3.4.3)\n",
      "Requirement already satisfied: matplotlib<4 in c:\\users\\igabay\\appdata\\local\\programs\\python\\python39\\lib\\site-packages (from mlflow==2.20.3->-r requirements.txt (line 1)) (3.7.1)\n",
      "Requirement already satisfied: numpy<3 in c:\\users\\igabay\\appdata\\local\\programs\\python\\python39\\lib\\site-packages (from mlflow==2.20.3->-r requirements.txt (line 1)) (1.23.1)\n",
      "Requirement already satisfied: pandas<3 in c:\\users\\igabay\\appdata\\local\\programs\\python\\python39\\lib\\site-packages (from mlflow==2.20.3->-r requirements.txt (line 1)) (1.5.3)\n",
      "Requirement already satisfied: pyarrow<20,>=4.0.0 in c:\\users\\igabay\\appdata\\local\\programs\\python\\python39\\lib\\site-packages (from mlflow==2.20.3->-r requirements.txt (line 1)) (9.0.0)\n",
      "Requirement already satisfied: scikit-learn<2 in c:\\users\\igabay\\appdata\\local\\programs\\python\\python39\\lib\\site-packages (from mlflow==2.20.3->-r requirements.txt (line 1)) (1.2.2)\n",
      "Requirement already satisfied: scipy<2 in c:\\users\\igabay\\appdata\\local\\programs\\python\\python39\\lib\\site-packages (from mlflow==2.20.3->-r requirements.txt (line 1)) (1.10.1)\n",
      "Requirement already satisfied: sqlalchemy<3,>=1.4.0 in c:\\users\\igabay\\appdata\\local\\programs\\python\\python39\\lib\\site-packages (from mlflow==2.20.3->-r requirements.txt (line 1)) (2.0.40)\n",
      "Requirement already satisfied: waitress<4 in c:\\users\\igabay\\appdata\\local\\programs\\python\\python39\\lib\\site-packages (from mlflow==2.20.3->-r requirements.txt (line 1)) (3.0.2)\n",
      "Requirement already satisfied: colorlog in c:\\users\\igabay\\appdata\\local\\programs\\python\\python39\\lib\\site-packages (from optuna==4.2.1->-r requirements.txt (line 3)) (6.9.0)\n",
      "Requirement already satisfied: packaging>=20.0 in c:\\users\\igabay\\appdata\\local\\programs\\python\\python39\\lib\\site-packages (from optuna==4.2.1->-r requirements.txt (line 3)) (24.2)\n",
      "Requirement already satisfied: tqdm in c:\\users\\igabay\\appdata\\local\\programs\\python\\python39\\lib\\site-packages (from optuna==4.2.1->-r requirements.txt (line 3)) (4.65.0)\n",
      "Requirement already satisfied: PyYAML in c:\\users\\igabay\\appdata\\local\\programs\\python\\python39\\lib\\site-packages (from optuna==4.2.1->-r requirements.txt (line 3)) (6.0)\n",
      "Requirement already satisfied: cachetools<6,>=5.0.0 in c:\\users\\igabay\\appdata\\local\\programs\\python\\python39\\lib\\site-packages (from mlflow-skinny==2.20.3->mlflow==2.20.3->-r requirements.txt (line 1)) (5.3.1)\n",
      "Requirement already satisfied: click<9,>=7.0 in c:\\users\\igabay\\appdata\\local\\programs\\python\\python39\\lib\\site-packages (from mlflow-skinny==2.20.3->mlflow==2.20.3->-r requirements.txt (line 1)) (8.1.3)\n",
      "Requirement already satisfied: cloudpickle<4 in c:\\users\\igabay\\appdata\\local\\programs\\python\\python39\\lib\\site-packages (from mlflow-skinny==2.20.3->mlflow==2.20.3->-r requirements.txt (line 1)) (2.2.1)\n",
      "Requirement already satisfied: databricks-sdk<1,>=0.20.0 in c:\\users\\igabay\\appdata\\local\\programs\\python\\python39\\lib\\site-packages (from mlflow-skinny==2.20.3->mlflow==2.20.3->-r requirements.txt (line 1)) (0.52.0)\n",
      "Requirement already satisfied: gitpython<4,>=3.1.9 in c:\\users\\igabay\\appdata\\local\\programs\\python\\python39\\lib\\site-packages (from mlflow-skinny==2.20.3->mlflow==2.20.3->-r requirements.txt (line 1)) (3.1.31)\n",
      "Requirement already satisfied: importlib_metadata!=4.7.0,<9,>=3.7.0 in c:\\users\\igabay\\appdata\\local\\programs\\python\\python39\\lib\\site-packages (from mlflow-skinny==2.20.3->mlflow==2.20.3->-r requirements.txt (line 1)) (6.7.0)\n",
      "Requirement already satisfied: opentelemetry-api<3,>=1.9.0 in c:\\users\\igabay\\appdata\\local\\programs\\python\\python39\\lib\\site-packages (from mlflow-skinny==2.20.3->mlflow==2.20.3->-r requirements.txt (line 1)) (1.31.1)\n",
      "Requirement already satisfied: opentelemetry-sdk<3,>=1.9.0 in c:\\users\\igabay\\appdata\\local\\programs\\python\\python39\\lib\\site-packages (from mlflow-skinny==2.20.3->mlflow==2.20.3->-r requirements.txt (line 1)) (1.31.1)\n",
      "Requirement already satisfied: protobuf<6,>=3.12.0 in c:\\users\\igabay\\appdata\\local\\programs\\python\\python39\\lib\\site-packages (from mlflow-skinny==2.20.3->mlflow==2.20.3->-r requirements.txt (line 1)) (3.20.3)\n",
      "Requirement already satisfied: pydantic<3,>=1.10.8 in c:\\users\\igabay\\appdata\\local\\programs\\python\\python39\\lib\\site-packages (from mlflow-skinny==2.20.3->mlflow==2.20.3->-r requirements.txt (line 1)) (2.11.1)\n",
      "Requirement already satisfied: requests<3,>=2.17.3 in c:\\users\\igabay\\appdata\\local\\programs\\python\\python39\\lib\\site-packages (from mlflow-skinny==2.20.3->mlflow==2.20.3->-r requirements.txt (line 1)) (2.31.0)\n",
      "Requirement already satisfied: sqlparse<1,>=0.4.0 in c:\\users\\igabay\\appdata\\local\\programs\\python\\python39\\lib\\site-packages (from mlflow-skinny==2.20.3->mlflow==2.20.3->-r requirements.txt (line 1)) (0.5.3)\n",
      "Requirement already satisfied: typing-extensions<5,>=4.0.0 in c:\\users\\igabay\\appdata\\local\\programs\\python\\python39\\lib\\site-packages (from mlflow-skinny==2.20.3->mlflow==2.20.3->-r requirements.txt (line 1)) (4.13.1)\n",
      "Requirement already satisfied: Mako in c:\\users\\igabay\\appdata\\local\\programs\\python\\python39\\lib\\site-packages (from alembic!=1.10.0,<2->mlflow==2.20.3->-r requirements.txt (line 1)) (1.3.10)\n",
      "Requirement already satisfied: urllib3>=1.26.0 in c:\\users\\igabay\\appdata\\local\\programs\\python\\python39\\lib\\site-packages (from docker<8,>=4.0.0->mlflow==2.20.3->-r requirements.txt (line 1)) (1.26.16)\n",
      "Requirement already satisfied: websocket-client>=0.32.0 in c:\\users\\igabay\\appdata\\local\\programs\\python\\python39\\lib\\site-packages (from docker<8,>=4.0.0->mlflow==2.20.3->-r requirements.txt (line 1)) (1.8.0)\n",
      "Requirement already satisfied: pywin32>=304 in c:\\users\\igabay\\appdata\\local\\programs\\python\\python39\\lib\\site-packages (from docker<8,>=4.0.0->mlflow==2.20.3->-r requirements.txt (line 1)) (306)\n",
      "Requirement already satisfied: Werkzeug>=2.2.2 in c:\\users\\igabay\\appdata\\local\\programs\\python\\python39\\lib\\site-packages (from Flask<4->mlflow==2.20.3->-r requirements.txt (line 1)) (2.2.3)\n",
      "Requirement already satisfied: itsdangerous>=2.0 in c:\\users\\igabay\\appdata\\local\\programs\\python\\python39\\lib\\site-packages (from Flask<4->mlflow==2.20.3->-r requirements.txt (line 1)) (2.1.2)\n",
      "Requirement already satisfied: graphql-core<3.3,>=3.1 in c:\\users\\igabay\\appdata\\local\\programs\\python\\python39\\lib\\site-packages (from graphene<4->mlflow==2.20.3->-r requirements.txt (line 1)) (3.2.6)\n",
      "Requirement already satisfied: graphql-relay<3.3,>=3.1 in c:\\users\\igabay\\appdata\\local\\programs\\python\\python39\\lib\\site-packages (from graphene<4->mlflow==2.20.3->-r requirements.txt (line 1)) (3.2.0)\n",
      "Requirement already satisfied: python-dateutil<3,>=2.7.0 in c:\\users\\igabay\\appdata\\local\\programs\\python\\python39\\lib\\site-packages (from graphene<4->mlflow==2.20.3->-r requirements.txt (line 1)) (2.8.2)\n",
      "Requirement already satisfied: MarkupSafe>=2.0 in c:\\users\\igabay\\appdata\\local\\programs\\python\\python39\\lib\\site-packages (from Jinja2<4,>=3.0->mlflow==2.20.3->-r requirements.txt (line 1)) (2.1.3)\n",
      "Requirement already satisfied: contourpy>=1.0.1 in c:\\users\\igabay\\appdata\\local\\programs\\python\\python39\\lib\\site-packages (from matplotlib<4->mlflow==2.20.3->-r requirements.txt (line 1)) (1.0.7)\n",
      "Requirement already satisfied: cycler>=0.10 in c:\\users\\igabay\\appdata\\local\\programs\\python\\python39\\lib\\site-packages (from matplotlib<4->mlflow==2.20.3->-r requirements.txt (line 1)) (0.11.0)\n",
      "Requirement already satisfied: fonttools>=4.22.0 in c:\\users\\igabay\\appdata\\local\\programs\\python\\python39\\lib\\site-packages (from matplotlib<4->mlflow==2.20.3->-r requirements.txt (line 1)) (4.39.4)\n",
      "Requirement already satisfied: kiwisolver>=1.0.1 in c:\\users\\igabay\\appdata\\local\\programs\\python\\python39\\lib\\site-packages (from matplotlib<4->mlflow==2.20.3->-r requirements.txt (line 1)) (1.4.4)\n",
      "Requirement already satisfied: pillow>=6.2.0 in c:\\users\\igabay\\appdata\\local\\programs\\python\\python39\\lib\\site-packages (from matplotlib<4->mlflow==2.20.3->-r requirements.txt (line 1)) (9.5.0)\n",
      "Requirement already satisfied: pyparsing>=2.3.1 in c:\\users\\igabay\\appdata\\local\\programs\\python\\python39\\lib\\site-packages (from matplotlib<4->mlflow==2.20.3->-r requirements.txt (line 1)) (3.0.9)\n",
      "Requirement already satisfied: importlib-resources>=3.2.0 in c:\\users\\igabay\\appdata\\local\\programs\\python\\python39\\lib\\site-packages (from matplotlib<4->mlflow==2.20.3->-r requirements.txt (line 1)) (6.5.2)\n",
      "Requirement already satisfied: pytz>=2020.1 in c:\\users\\igabay\\appdata\\local\\programs\\python\\python39\\lib\\site-packages (from pandas<3->mlflow==2.20.3->-r requirements.txt (line 1)) (2023.3)\n",
      "Requirement already satisfied: joblib>=1.1.1 in c:\\users\\igabay\\appdata\\local\\programs\\python\\python39\\lib\\site-packages (from scikit-learn<2->mlflow==2.20.3->-r requirements.txt (line 1)) (1.2.0)\n",
      "Requirement already satisfied: threadpoolctl>=2.0.0 in c:\\users\\igabay\\appdata\\local\\programs\\python\\python39\\lib\\site-packages (from scikit-learn<2->mlflow==2.20.3->-r requirements.txt (line 1)) (3.1.0)\n",
      "Requirement already satisfied: greenlet>=1 in c:\\users\\igabay\\appdata\\local\\programs\\python\\python39\\lib\\site-packages (from sqlalchemy<3,>=1.4.0->mlflow==2.20.3->-r requirements.txt (line 1)) (3.2.1)\n",
      "Requirement already satisfied: colorama in c:\\users\\igabay\\appdata\\local\\programs\\python\\python39\\lib\\site-packages (from colorlog->optuna==4.2.1->-r requirements.txt (line 3)) (0.4.6)\n",
      "Requirement already satisfied: google-auth~=2.0 in c:\\users\\igabay\\appdata\\local\\programs\\python\\python39\\lib\\site-packages (from databricks-sdk<1,>=0.20.0->mlflow-skinny==2.20.3->mlflow==2.20.3->-r requirements.txt (line 1)) (2.22.0)\n",
      "Requirement already satisfied: gitdb<5,>=4.0.1 in c:\\users\\igabay\\appdata\\local\\programs\\python\\python39\\lib\\site-packages (from gitpython<4,>=3.1.9->mlflow-skinny==2.20.3->mlflow==2.20.3->-r requirements.txt (line 1)) (4.0.10)\n",
      "Requirement already satisfied: zipp>=0.5 in c:\\users\\igabay\\appdata\\local\\programs\\python\\python39\\lib\\site-packages (from importlib_metadata!=4.7.0,<9,>=3.7.0->mlflow-skinny==2.20.3->mlflow==2.20.3->-r requirements.txt (line 1)) (3.15.0)\n",
      "Requirement already satisfied: deprecated>=1.2.6 in c:\\users\\igabay\\appdata\\local\\programs\\python\\python39\\lib\\site-packages (from opentelemetry-api<3,>=1.9.0->mlflow-skinny==2.20.3->mlflow==2.20.3->-r requirements.txt (line 1)) (1.2.18)\n",
      "Requirement already satisfied: opentelemetry-semantic-conventions==0.52b1 in c:\\users\\igabay\\appdata\\local\\programs\\python\\python39\\lib\\site-packages (from opentelemetry-sdk<3,>=1.9.0->mlflow-skinny==2.20.3->mlflow==2.20.3->-r requirements.txt (line 1)) (0.52b1)\n",
      "Requirement already satisfied: annotated-types>=0.6.0 in c:\\users\\igabay\\appdata\\local\\programs\\python\\python39\\lib\\site-packages (from pydantic<3,>=1.10.8->mlflow-skinny==2.20.3->mlflow==2.20.3->-r requirements.txt (line 1)) (0.7.0)\n",
      "Requirement already satisfied: pydantic-core==2.33.0 in c:\\users\\igabay\\appdata\\local\\programs\\python\\python39\\lib\\site-packages (from pydantic<3,>=1.10.8->mlflow-skinny==2.20.3->mlflow==2.20.3->-r requirements.txt (line 1)) (2.33.0)\n",
      "Requirement already satisfied: typing-inspection>=0.4.0 in c:\\users\\igabay\\appdata\\local\\programs\\python\\python39\\lib\\site-packages (from pydantic<3,>=1.10.8->mlflow-skinny==2.20.3->mlflow==2.20.3->-r requirements.txt (line 1)) (0.4.0)\n",
      "Requirement already satisfied: six>=1.5 in c:\\users\\igabay\\appdata\\local\\programs\\python\\python39\\lib\\site-packages (from python-dateutil<3,>=2.7.0->graphene<4->mlflow==2.20.3->-r requirements.txt (line 1)) (1.16.0)\n",
      "Requirement already satisfied: charset-normalizer<4,>=2 in c:\\users\\igabay\\appdata\\local\\programs\\python\\python39\\lib\\site-packages (from requests<3,>=2.17.3->mlflow-skinny==2.20.3->mlflow==2.20.3->-r requirements.txt (line 1)) (3.1.0)\n",
      "Requirement already satisfied: idna<4,>=2.5 in c:\\users\\igabay\\appdata\\local\\programs\\python\\python39\\lib\\site-packages (from requests<3,>=2.17.3->mlflow-skinny==2.20.3->mlflow==2.20.3->-r requirements.txt (line 1)) (3.4)\n",
      "Requirement already satisfied: certifi>=2017.4.17 in c:\\users\\igabay\\appdata\\local\\programs\\python\\python39\\lib\\site-packages (from requests<3,>=2.17.3->mlflow-skinny==2.20.3->mlflow==2.20.3->-r requirements.txt (line 1)) (2023.5.7)\n",
      "Requirement already satisfied: wrapt<2,>=1.10 in c:\\users\\igabay\\appdata\\local\\programs\\python\\python39\\lib\\site-packages (from deprecated>=1.2.6->opentelemetry-api<3,>=1.9.0->mlflow-skinny==2.20.3->mlflow==2.20.3->-r requirements.txt (line 1)) (1.15.0)\n",
      "Requirement already satisfied: smmap<6,>=3.0.1 in c:\\users\\igabay\\appdata\\local\\programs\\python\\python39\\lib\\site-packages (from gitdb<5,>=4.0.1->gitpython<4,>=3.1.9->mlflow-skinny==2.20.3->mlflow==2.20.3->-r requirements.txt (line 1)) (5.0.0)\n",
      "Requirement already satisfied: pyasn1-modules>=0.2.1 in c:\\users\\igabay\\appdata\\local\\programs\\python\\python39\\lib\\site-packages (from google-auth~=2.0->databricks-sdk<1,>=0.20.0->mlflow-skinny==2.20.3->mlflow==2.20.3->-r requirements.txt (line 1)) (0.3.0)\n",
      "Requirement already satisfied: rsa<5,>=3.1.4 in c:\\users\\igabay\\appdata\\local\\programs\\python\\python39\\lib\\site-packages (from google-auth~=2.0->databricks-sdk<1,>=0.20.0->mlflow-skinny==2.20.3->mlflow==2.20.3->-r requirements.txt (line 1)) (4.7.2)\n",
      "Requirement already satisfied: pyasn1<0.6.0,>=0.4.6 in c:\\users\\igabay\\appdata\\local\\programs\\python\\python39\\lib\\site-packages (from pyasn1-modules>=0.2.1->google-auth~=2.0->databricks-sdk<1,>=0.20.0->mlflow-skinny==2.20.3->mlflow==2.20.3->-r requirements.txt (line 1)) (0.5.0)\n"
     ]
    },
    {
     "name": "stderr",
     "output_type": "stream",
     "text": [
      "\n",
      "[notice] A new release of pip is available: 25.0.1 -> 25.1.1\n",
      "[notice] To update, run: python.exe -m pip install --upgrade pip\n"
     ]
    }
   ],
   "source": [
    "%pip install -r requirements.txt"
   ]
  },
  {
   "cell_type": "code",
   "execution_count": 8,
   "metadata": {
    "collapsed": false,
    "pycharm": {
     "name": "#%%\n"
    }
   }
  },
  {
   "cell_type": "markdown",
   "source": [
    "## Running MLFlow server\n",
    "MLFlow enables us to track several informations on the ML model runs through a UI. To start the server, use the command\n",
    "\n",
    "```mlflow server --host 127.0.0.1 --port 8080```\n",
    "\n",
    " from the root of the project\n",
    "\n"
   ],
   "metadata": {}
  },
  {
   "cell_type": "code",
   "execution_count": 9,
   "metadata": {},
   "outputs": [],
   "source": [
    "import mlflow\r\n",
    "# By default, the logs will be saved in the current folder. To link your notebook computations to the mlflow server, set the tracking uri to the same uri as the server\r\n",
    "host = \"0.0.0.0\" #TODO\r\n",
    "port = \"6000\" #TODO\r\n",
    "mlflow.set_tracking_uri(uri = f\"http://{host}:{port}\")"
   ],
   "outputs": [],
   "metadata": {}
  },
  {
   "cell_type": "markdown",
   "source": [
    "## Data Exploration"
   ],
   "metadata": {
    "collapsed": false,
    "pycharm": {
     "name": "#%% md\n"
    }
   }
  },
  {
   "cell_type": "code",
   "execution_count": 10,
   "metadata": {
    "collapsed": false,
    "pycharm": {
     "name": "#%%\n"
    }
   },
   "outputs": [
    {
     "data": {
      "text/html": [
       "<div>\n",
       "<style scoped>\n",
       "    .dataframe tbody tr th:only-of-type {\n",
       "        vertical-align: middle;\n",
       "    }\n",
       "\n",
       "    .dataframe tbody tr th {\n",
       "        vertical-align: top;\n",
       "    }\n",
       "\n",
       "    .dataframe thead th {\n",
       "        text-align: right;\n",
       "    }\n",
       "</style>\n",
       "<table border=\"1\" class=\"dataframe\">\n",
       "  <thead>\n",
       "    <tr style=\"text-align: right;\">\n",
       "      <th></th>\n",
       "      <th>checking_account_status</th>\n",
       "      <th>duration_month</th>\n",
       "      <th>credit_history</th>\n",
       "      <th>purpose</th>\n",
       "      <th>credit_amount</th>\n",
       "      <th>savings_account</th>\n",
       "      <th>employment_duration</th>\n",
       "      <th>installment_rate</th>\n",
       "      <th>personal_status_sex</th>\n",
       "      <th>other_debtors</th>\n",
       "      <th>present_residence_since</th>\n",
       "      <th>property</th>\n",
       "      <th>age</th>\n",
       "      <th>other_installment_plans</th>\n",
       "      <th>housing</th>\n",
       "      <th>existing_credits_count</th>\n",
       "      <th>job</th>\n",
       "      <th>dependents_count</th>\n",
       "      <th>telephone</th>\n",
       "      <th>foreign_worker</th>\n",
       "      <th>class</th>\n",
       "    </tr>\n",
       "  </thead>\n",
       "  <tbody>\n",
       "    <tr>\n",
       "      <th>0</th>\n",
       "      <td>&lt; 0 DM</td>\n",
       "      <td>6</td>\n",
       "      <td>critical account/ other credits existing (not ...</td>\n",
       "      <td>radio/television</td>\n",
       "      <td>1169</td>\n",
       "      <td>A65</td>\n",
       "      <td>.. &gt;= 7 years</td>\n",
       "      <td>4</td>\n",
       "      <td>male   : single</td>\n",
       "      <td>none</td>\n",
       "      <td>4</td>\n",
       "      <td>real estate</td>\n",
       "      <td>67</td>\n",
       "      <td>none</td>\n",
       "      <td>own</td>\n",
       "      <td>2</td>\n",
       "      <td>skilled employee / official</td>\n",
       "      <td>1</td>\n",
       "      <td>yes, registered under the customers name</td>\n",
       "      <td>yes</td>\n",
       "      <td>1</td>\n",
       "    </tr>\n",
       "    <tr>\n",
       "      <th>1</th>\n",
       "      <td>0 &lt;= ... &lt; 200 DM</td>\n",
       "      <td>48</td>\n",
       "      <td>existing credits paid back duly till now</td>\n",
       "      <td>radio/television</td>\n",
       "      <td>5951</td>\n",
       "      <td>A61</td>\n",
       "      <td>1  &lt;= ... &lt; 4 years</td>\n",
       "      <td>2</td>\n",
       "      <td>female : divorced/separated/married</td>\n",
       "      <td>none</td>\n",
       "      <td>2</td>\n",
       "      <td>real estate</td>\n",
       "      <td>22</td>\n",
       "      <td>none</td>\n",
       "      <td>own</td>\n",
       "      <td>1</td>\n",
       "      <td>skilled employee / official</td>\n",
       "      <td>1</td>\n",
       "      <td>none</td>\n",
       "      <td>yes</td>\n",
       "      <td>2</td>\n",
       "    </tr>\n",
       "    <tr>\n",
       "      <th>2</th>\n",
       "      <td>no checking account</td>\n",
       "      <td>12</td>\n",
       "      <td>critical account/ other credits existing (not ...</td>\n",
       "      <td>education</td>\n",
       "      <td>2096</td>\n",
       "      <td>A61</td>\n",
       "      <td>4  &lt;= ... &lt; 7 years</td>\n",
       "      <td>2</td>\n",
       "      <td>male   : single</td>\n",
       "      <td>none</td>\n",
       "      <td>3</td>\n",
       "      <td>real estate</td>\n",
       "      <td>49</td>\n",
       "      <td>none</td>\n",
       "      <td>own</td>\n",
       "      <td>1</td>\n",
       "      <td>unskilled - resident</td>\n",
       "      <td>2</td>\n",
       "      <td>none</td>\n",
       "      <td>yes</td>\n",
       "      <td>1</td>\n",
       "    </tr>\n",
       "    <tr>\n",
       "      <th>3</th>\n",
       "      <td>&lt; 0 DM</td>\n",
       "      <td>42</td>\n",
       "      <td>existing credits paid back duly till now</td>\n",
       "      <td>furniture/equipment</td>\n",
       "      <td>7882</td>\n",
       "      <td>A61</td>\n",
       "      <td>4  &lt;= ... &lt; 7 years</td>\n",
       "      <td>2</td>\n",
       "      <td>male   : single</td>\n",
       "      <td>guarantor</td>\n",
       "      <td>4</td>\n",
       "      <td>building society savings agreement/life insurance</td>\n",
       "      <td>45</td>\n",
       "      <td>none</td>\n",
       "      <td>for free</td>\n",
       "      <td>1</td>\n",
       "      <td>skilled employee / official</td>\n",
       "      <td>2</td>\n",
       "      <td>none</td>\n",
       "      <td>yes</td>\n",
       "      <td>1</td>\n",
       "    </tr>\n",
       "    <tr>\n",
       "      <th>4</th>\n",
       "      <td>&lt; 0 DM</td>\n",
       "      <td>24</td>\n",
       "      <td>delay in paying off in the past</td>\n",
       "      <td>car (new)</td>\n",
       "      <td>4870</td>\n",
       "      <td>A61</td>\n",
       "      <td>1  &lt;= ... &lt; 4 years</td>\n",
       "      <td>3</td>\n",
       "      <td>male   : single</td>\n",
       "      <td>none</td>\n",
       "      <td>4</td>\n",
       "      <td>unknown / no property</td>\n",
       "      <td>53</td>\n",
       "      <td>none</td>\n",
       "      <td>for free</td>\n",
       "      <td>2</td>\n",
       "      <td>skilled employee / official</td>\n",
       "      <td>2</td>\n",
       "      <td>none</td>\n",
       "      <td>yes</td>\n",
       "      <td>2</td>\n",
       "    </tr>\n",
       "  </tbody>\n",
       "</table>\n",
       "</div>"
      ],
      "text/plain": [
       "  checking_account_status  duration_month  \\\n",
       "0                  < 0 DM               6   \n",
       "1       0 <= ... < 200 DM              48   \n",
       "2     no checking account              12   \n",
       "3                  < 0 DM              42   \n",
       "4                  < 0 DM              24   \n",
       "\n",
       "                                      credit_history              purpose  \\\n",
       "0  critical account/ other credits existing (not ...     radio/television   \n",
       "1           existing credits paid back duly till now     radio/television   \n",
       "2  critical account/ other credits existing (not ...            education   \n",
       "3           existing credits paid back duly till now  furniture/equipment   \n",
       "4                    delay in paying off in the past            car (new)   \n",
       "\n",
       "   credit_amount savings_account  employment_duration  installment_rate  \\\n",
       "0           1169             A65        .. >= 7 years                 4   \n",
       "1           5951             A61  1  <= ... < 4 years                 2   \n",
       "2           2096             A61  4  <= ... < 7 years                 2   \n",
       "3           7882             A61  4  <= ... < 7 years                 2   \n",
       "4           4870             A61  1  <= ... < 4 years                 3   \n",
       "\n",
       "                   personal_status_sex other_debtors  present_residence_since  \\\n",
       "0                      male   : single          none                        4   \n",
       "1  female : divorced/separated/married          none                        2   \n",
       "2                      male   : single          none                        3   \n",
       "3                      male   : single     guarantor                        4   \n",
       "4                      male   : single          none                        4   \n",
       "\n",
       "                                            property  age  \\\n",
       "0                                        real estate   67   \n",
       "1                                        real estate   22   \n",
       "2                                        real estate   49   \n",
       "3  building society savings agreement/life insurance   45   \n",
       "4                              unknown / no property   53   \n",
       "\n",
       "  other_installment_plans   housing  existing_credits_count  \\\n",
       "0                    none       own                       2   \n",
       "1                    none       own                       1   \n",
       "2                    none       own                       1   \n",
       "3                    none  for free                       1   \n",
       "4                    none  for free                       2   \n",
       "\n",
       "                           job  dependents_count  \\\n",
       "0  skilled employee / official                 1   \n",
       "1  skilled employee / official                 1   \n",
       "2         unskilled - resident                 2   \n",
       "3  skilled employee / official                 2   \n",
       "4  skilled employee / official                 2   \n",
       "\n",
       "                                  telephone foreign_worker  class  \n",
       "0  yes, registered under the customers name            yes      1  \n",
       "1                                      none            yes      2  \n",
       "2                                      none            yes      1  \n",
       "3                                      none            yes      1  \n",
       "4                                      none            yes      2  "
      ]
     },
     "execution_count": 10,
     "metadata": {},
     "output_type": "execute_result"
    }
   ],
   "source": [
    "filename = \"data/dataset.parquet\"\n",
    "\n",
    "df = pd.read_parquet(filename)\n",
    "df.head()"
   ]
  },
  {
   "cell_type": "markdown",
   "source": [
    "The goal is to predict if a bank can give a credit to a customer according to its profile\n",
    "\n",
    "Question: Identify the target field"
   ],
   "metadata": {
    "collapsed": false,
    "pycharm": {
     "name": "#%% md\n"
    }
   },
   "attachments": {}
  },
  {
   "cell_type": "code",
   "execution_count": 11,
   "metadata": {
    "collapsed": false,
    "pycharm": {
     "name": "#%%\n"
    }
   }
  },
  {
   "cell_type": "code",
   "execution_count": 12,
   "metadata": {},
   "outputs": [
    {
     "ename": "KeyError",
     "evalue": "'risk'",
     "output_type": "error",
     "traceback": [
      "\u001b[1;31m---------------------------------------------------------------------------\u001b[0m",
      "\u001b[1;31mKeyError\u001b[0m                                  Traceback (most recent call last)",
      "File \u001b[1;32mc:\\Users\\igabay\\AppData\\Local\\Programs\\Python\\Python39\\lib\\site-packages\\pandas\\core\\indexes\\base.py:3802\u001b[0m, in \u001b[0;36mIndex.get_loc\u001b[1;34m(self, key, method, tolerance)\u001b[0m\n\u001b[0;32m   3801\u001b[0m \u001b[38;5;28;01mtry\u001b[39;00m:\n\u001b[1;32m-> 3802\u001b[0m     \u001b[38;5;28;01mreturn\u001b[39;00m \u001b[38;5;28;43mself\u001b[39;49m\u001b[38;5;241;43m.\u001b[39;49m\u001b[43m_engine\u001b[49m\u001b[38;5;241;43m.\u001b[39;49m\u001b[43mget_loc\u001b[49m\u001b[43m(\u001b[49m\u001b[43mcasted_key\u001b[49m\u001b[43m)\u001b[49m\n\u001b[0;32m   3803\u001b[0m \u001b[38;5;28;01mexcept\u001b[39;00m \u001b[38;5;167;01mKeyError\u001b[39;00m \u001b[38;5;28;01mas\u001b[39;00m err:\n",
      "File \u001b[1;32mc:\\Users\\igabay\\AppData\\Local\\Programs\\Python\\Python39\\lib\\site-packages\\pandas\\_libs\\index.pyx:138\u001b[0m, in \u001b[0;36mpandas._libs.index.IndexEngine.get_loc\u001b[1;34m()\u001b[0m\n",
      "File \u001b[1;32mc:\\Users\\igabay\\AppData\\Local\\Programs\\Python\\Python39\\lib\\site-packages\\pandas\\_libs\\index.pyx:165\u001b[0m, in \u001b[0;36mpandas._libs.index.IndexEngine.get_loc\u001b[1;34m()\u001b[0m\n",
      "File \u001b[1;32mpandas\\_libs\\hashtable_class_helper.pxi:5745\u001b[0m, in \u001b[0;36mpandas._libs.hashtable.PyObjectHashTable.get_item\u001b[1;34m()\u001b[0m\n",
      "File \u001b[1;32mpandas\\_libs\\hashtable_class_helper.pxi:5753\u001b[0m, in \u001b[0;36mpandas._libs.hashtable.PyObjectHashTable.get_item\u001b[1;34m()\u001b[0m\n",
      "\u001b[1;31mKeyError\u001b[0m: 'risk'",
      "\nThe above exception was the direct cause of the following exception:\n",
      "\u001b[1;31mKeyError\u001b[0m                                  Traceback (most recent call last)",
      "Cell \u001b[1;32mIn[12], line 4\u001b[0m\n\u001b[0;32m      2\u001b[0m df \u001b[38;5;241m=\u001b[39m df\u001b[38;5;241m.\u001b[39mrename(columns\u001b[38;5;241m=\u001b[39m{target_field:\u001b[38;5;124m'\u001b[39m\u001b[38;5;124mrisk\u001b[39m\u001b[38;5;124m'\u001b[39m})\n\u001b[0;32m      3\u001b[0m \u001b[38;5;66;03m# And change the label values \u001b[39;00m\n\u001b[1;32m----> 4\u001b[0m df[\u001b[38;5;124m'\u001b[39m\u001b[38;5;124mrisk\u001b[39m\u001b[38;5;124m'\u001b[39m] \u001b[38;5;241m=\u001b[39m \u001b[43mdf\u001b[49m\u001b[43m[\u001b[49m\u001b[38;5;124;43m'\u001b[39;49m\u001b[38;5;124;43mrisk\u001b[39;49m\u001b[38;5;124;43m'\u001b[39;49m\u001b[43m]\u001b[49m\u001b[38;5;241m.\u001b[39mmap({\u001b[38;5;241m1\u001b[39m:\u001b[38;5;241m0\u001b[39m,\u001b[38;5;241m2\u001b[39m:\u001b[38;5;241m1\u001b[39m})\n\u001b[0;32m      6\u001b[0m y \u001b[38;5;241m=\u001b[39m df[\u001b[38;5;124m'\u001b[39m\u001b[38;5;124mrisk\u001b[39m\u001b[38;5;124m'\u001b[39m]\n\u001b[0;32m      7\u001b[0m X \u001b[38;5;241m=\u001b[39m df\u001b[38;5;241m.\u001b[39mdrop(columns\u001b[38;5;241m=\u001b[39m[\u001b[38;5;124m'\u001b[39m\u001b[38;5;124mrisk\u001b[39m\u001b[38;5;124m'\u001b[39m])\n",
      "File \u001b[1;32mc:\\Users\\igabay\\AppData\\Local\\Programs\\Python\\Python39\\lib\\site-packages\\pandas\\core\\frame.py:3807\u001b[0m, in \u001b[0;36mDataFrame.__getitem__\u001b[1;34m(self, key)\u001b[0m\n\u001b[0;32m   3805\u001b[0m \u001b[38;5;28;01mif\u001b[39;00m \u001b[38;5;28mself\u001b[39m\u001b[38;5;241m.\u001b[39mcolumns\u001b[38;5;241m.\u001b[39mnlevels \u001b[38;5;241m>\u001b[39m \u001b[38;5;241m1\u001b[39m:\n\u001b[0;32m   3806\u001b[0m     \u001b[38;5;28;01mreturn\u001b[39;00m \u001b[38;5;28mself\u001b[39m\u001b[38;5;241m.\u001b[39m_getitem_multilevel(key)\n\u001b[1;32m-> 3807\u001b[0m indexer \u001b[38;5;241m=\u001b[39m \u001b[38;5;28;43mself\u001b[39;49m\u001b[38;5;241;43m.\u001b[39;49m\u001b[43mcolumns\u001b[49m\u001b[38;5;241;43m.\u001b[39;49m\u001b[43mget_loc\u001b[49m\u001b[43m(\u001b[49m\u001b[43mkey\u001b[49m\u001b[43m)\u001b[49m\n\u001b[0;32m   3808\u001b[0m \u001b[38;5;28;01mif\u001b[39;00m is_integer(indexer):\n\u001b[0;32m   3809\u001b[0m     indexer \u001b[38;5;241m=\u001b[39m [indexer]\n",
      "File \u001b[1;32mc:\\Users\\igabay\\AppData\\Local\\Programs\\Python\\Python39\\lib\\site-packages\\pandas\\core\\indexes\\base.py:3804\u001b[0m, in \u001b[0;36mIndex.get_loc\u001b[1;34m(self, key, method, tolerance)\u001b[0m\n\u001b[0;32m   3802\u001b[0m     \u001b[38;5;28;01mreturn\u001b[39;00m \u001b[38;5;28mself\u001b[39m\u001b[38;5;241m.\u001b[39m_engine\u001b[38;5;241m.\u001b[39mget_loc(casted_key)\n\u001b[0;32m   3803\u001b[0m \u001b[38;5;28;01mexcept\u001b[39;00m \u001b[38;5;167;01mKeyError\u001b[39;00m \u001b[38;5;28;01mas\u001b[39;00m err:\n\u001b[1;32m-> 3804\u001b[0m     \u001b[38;5;28;01mraise\u001b[39;00m \u001b[38;5;167;01mKeyError\u001b[39;00m(key) \u001b[38;5;28;01mfrom\u001b[39;00m \u001b[38;5;21;01merr\u001b[39;00m\n\u001b[0;32m   3805\u001b[0m \u001b[38;5;28;01mexcept\u001b[39;00m \u001b[38;5;167;01mTypeError\u001b[39;00m:\n\u001b[0;32m   3806\u001b[0m     \u001b[38;5;66;03m# If we have a listlike key, _check_indexing_error will raise\u001b[39;00m\n\u001b[0;32m   3807\u001b[0m     \u001b[38;5;66;03m#  InvalidIndexError. Otherwise we fall through and re-raise\u001b[39;00m\n\u001b[0;32m   3808\u001b[0m     \u001b[38;5;66;03m#  the TypeError.\u001b[39;00m\n\u001b[0;32m   3809\u001b[0m     \u001b[38;5;28mself\u001b[39m\u001b[38;5;241m.\u001b[39m_check_indexing_error(key)\n",
      "\u001b[1;31mKeyError\u001b[0m: 'risk'"
     ]
    }
   ],
   "source": [
    "# Let's rename the target field\r\n",
    "df = df.rename(columns={target_field:'risk'})\r\n",
    "# And change the label values \r\n",
    "df['risk'] = df['risk'].map({1:0,2:1})\r\n",
    "\r\n",
    "y = df['risk']\r\n",
    "X = df.drop(columns=['risk'])"
   ],
   "outputs": [],
   "metadata": {}
  },
  {
   "cell_type": "markdown",
   "source": [
    "This is a binary classification problem where\n",
    "-  y = 1 if the customer is at risk\n",
    "-  y = 0 if the customer is \"bankable\""
   ],
   "metadata": {
    "collapsed": false,
    "pycharm": {
     "name": "#%% md\n"
    }
   }
  },
  {
   "cell_type": "markdown",
   "source": [
    "In real life banks assess customer risk with more than two values (risky or not risky).\n",
    "\n",
    "In our case, what trick would you suggest to get n risk values (with n>2) ? (with probabilities for instance)"
   ],
   "metadata": {
    "collapsed": false,
    "pycharm": {
     "name": "#%% md\n"
    }
   },
   "attachments": {}
  },
  {
   "cell_type": "markdown",
   "source": [
    "--------------------------\n",
    "ANSWER HERE\n",
    "\n",
    "--------------------------"
   ],
   "metadata": {
    "collapsed": false,
    "pycharm": {
     "name": "#%% md\n"
    }
   },
   "attachments": {}
  },
  {
   "cell_type": "markdown",
   "source": [
    "### Using seaborn to explore data \n",
    "\n",
    "Correlation matrixes and features distributions according to the credit risk are displayed using the *seaborn* library."
   ],
   "metadata": {
    "collapsed": false,
    "pycharm": {
     "name": "#%% md\n"
    }
   },
   "attachments": {}
  },
  {
   "cell_type": "code",
   "execution_count": null,
   "source": [
    "# Correlation matrix\r\n",
    "corr = df.corr(numeric_only = True)\r\n",
    "plt.figure(figsize=(12,12))\r\n",
    "sns.heatmap(corr, cmap=\"Blues\", annot=True, linewidths=.5, cbar_kws={\"shrink\": .5})"
   ],
   "outputs": [],
   "metadata": {
    "collapsed": false,
    "pycharm": {
     "name": "#%%\n"
    }
   }
  },
  {
   "cell_type": "markdown",
   "source": [
    "\n",
    "Question : Do you consider the dataset unbalanced ? Compute the label proportion. If a dataset is unbalanced what are the risks on the model? Which method would you use to manage an unbalanced dataset?"
   ],
   "metadata": {}
  },
  {
   "cell_type": "markdown",
   "source": [
    "--------------------------\n",
    "ANSWER HERE\n",
    "\n",
    "--------------------------"
   ],
   "metadata": {}
  },
  {
   "cell_type": "markdown",
   "source": [
    "## Encoding"
   ],
   "metadata": {
    "collapsed": false,
    "pycharm": {
     "name": "#%% md\n"
    }
   }
  },
  {
   "cell_type": "markdown",
   "source": [
    "Preliminary data exploration helped us discover all the features in the dataset, their distributions and correlations.\n",
    "\n",
    "The categorical features now have to be encoded"
   ],
   "metadata": {
    "collapsed": false,
    "pycharm": {
     "name": "#%% md\n"
    }
   },
   "attachments": {}
  },
  {
   "cell_type": "code",
   "execution_count": null,
   "source": [
    "numerics = ['int16', 'int32', 'int64', 'float16', 'float32', 'float64']\r\n",
    "numeric_feat = X.select_dtypes(include=numerics).columns.tolist()\r\n",
    "\r\n",
    "##############################################\r\n",
    "# Pick the right categorical features to encode\r\n",
    "categorical_feat = [\"checking_account_status\", ...] # TODO\r\n",
    "##############################################\r\n",
    "\r\n",
    "onehot_encoder = OneHotEncoder()\r\n",
    "\r\n",
    "# Fit_transform - create a X_enc dataframe from the X dataframe\r\n",
    "X_enc_array = onehot_encoder.fit_transform(X[categorical_feat])\r\n",
    "X_enc = pd.DataFrame(X_enc_array.toarray(), columns=onehot_encoder.get_feature_names_out(input_features=categorical_feat))\r\n",
    "X_enc[numeric_feat] = X[numeric_feat]\r\n",
    "\r\n",
    "display(X_enc.head())\r\n"
   ],
   "outputs": [],
   "metadata": {
    "collapsed": false,
    "pycharm": {
     "name": "#%%\n"
    }
   }
  },
  {
   "cell_type": "markdown",
   "source": [
    "What is a one-hot encoder? How would it transform the following pandas Series: ['Cat','Cat','Dog','Cat','Bird','Dog']?"
   ],
   "metadata": {}
  },
  {
   "cell_type": "markdown",
   "source": [
    "--------------------------\n",
    "ANSWER HERE\n",
    "\n",
    "--------------------------"
   ],
   "metadata": {}
  },
  {
   "cell_type": "code",
   "execution_count": null,
   "source": [
    "with open(\"data/one_hot_encoder.pkl\", 'wb') as file:\r\n",
    "    pickle.dump(onehot_encoder, file)"
   ],
   "outputs": [],
   "metadata": {}
  },
  {
   "cell_type": "markdown",
   "source": [
    "## ML Modeling"
   ],
   "metadata": {
    "collapsed": false,
    "pycharm": {
     "name": "#%% md\n"
    }
   }
  },
  {
   "cell_type": "markdown",
   "source": [
    "### Train/test split"
   ],
   "metadata": {
    "collapsed": false,
    "pycharm": {
     "name": "#%% md\n"
    }
   }
  },
  {
   "cell_type": "markdown",
   "source": [
    "Question : Split X and y to fit the model. Make sure the risk proportion in the train set are the same as in the test set using the argument *stratify*. Use random_state = 16"
   ],
   "metadata": {}
  },
  {
   "cell_type": "code",
   "execution_count": null,
   "source": [
    "X_train,X_test,y_train,y_test =  ... # TODO"
   ],
   "outputs": [],
   "metadata": {
    "collapsed": false,
    "pycharm": {
     "name": "#%%\n"
    }
   }
  },
  {
   "cell_type": "markdown",
   "source": [
    "### Training an ML model\n",
    "During the rest of this workshop, we'll train a random forest classifier. What other models would be appropriate for the current problem? Justify your answer."
   ],
   "metadata": {},
   "attachments": {}
  },
  {
   "cell_type": "markdown",
   "source": [
    "--------------------------\n",
    "ANSWER HERE\n",
    "\n",
    "--------------------------"
   ],
   "metadata": {}
  },
  {
   "cell_type": "markdown",
   "source": [
    "#### Training with default hyperparameters\n"
   ],
   "metadata": {},
   "attachments": {}
  },
  {
   "cell_type": "code",
   "execution_count": null,
   "source": [
    "# Basic configuration\r\n",
    "\r\n",
    "rf_clf = RandomForestClassifier(random_state=42)\r\n",
    "rf_clf.fit(X_train, y_train)"
   ],
   "outputs": [],
   "metadata": {}
  },
  {
   "cell_type": "code",
   "execution_count": null,
   "source": [
    "\r\n",
    "mlflow.set_experiment(experiment_name=\"finetune-creditrisk\")\r\n",
    "with mlflow.start_run(run_name=\"RandomForest_NoOptimization\"):\r\n",
    "    # log params\r\n",
    "    params = rf_clf.get_params()\r\n",
    "    mlflow.log_param(\"n_estimators\", params[\"n_estimators\"])\r\n",
    "    mlflow.log_param(\"bootstrap\", params[\"bootstrap\"])\r\n",
    "    mlflow.log_param(\"min_samples_leaf\", params[\"min_samples_leaf\"])\r\n",
    "    mlflow.log_param(\"max_depth\", params[\"max_depth\"])\r\n",
    "\r\n",
    "    # log metrics\r\n",
    "    y_pred = rf_clf.predict_proba(X_test)[:,1]\r\n",
    "    mlflow.log_metric(\"auc\", roc_auc_score(y_test,y_pred))\r\n",
    "    mlflow.log_metric(\"f1-score\", f1_score(y_test, rf_clf.predict(X_test)))\r\n",
    "    \r\n",
    "    mlflow.sklearn.log_model(rf_clf, artifact_path=\"sklearn-model\",\r\n",
    "        registered_model_name=\"sk-learn-random-forest\")\r\n",
    "    \r\n",
    "    mlflow.log_artifact(local_path='data/one_hot_encoder.pkl', artifact_path=\"\")"
   ],
   "outputs": [],
   "metadata": {}
  },
  {
   "cell_type": "markdown",
   "source": [
    "Using only the MLFlow UI, what are the basic parameters of a random forest classifier? (Justify by writing the path you took in the UI to read them)"
   ],
   "metadata": {}
  },
  {
   "cell_type": "markdown",
   "source": [
    "--------------------------\n",
    "ANSWER HERE\n",
    "\n",
    "--------------------------"
   ],
   "metadata": {}
  },
  {
   "cell_type": "markdown",
   "source": [
    "#### Optimizing hyperparameters by hand\n"
   ],
   "metadata": {}
  },
  {
   "cell_type": "markdown",
   "source": [
    "Based on the results of the optimization, fine-tune the model using the provided code and write each result you obtain in a table"
   ],
   "metadata": {}
  },
  {
   "cell_type": "markdown",
   "source": [
    "--------------------------\n",
    "ANSWER HERE\n",
    "\n",
    "--------------------------"
   ],
   "metadata": {}
  },
  {
   "cell_type": "code",
   "execution_count": null,
   "source": [
    "# Modify here to fine-tune the model\r\n",
    "params = {\r\n",
    "    \"n_estimators\":1, # TODO\r\n",
    "    \"bootstrap\":False,\r\n",
    "    \"min_samples_leaf\":1,\r\n",
    "    \"max_depth\":1,\r\n",
    "}\r\n",
    "\r\n",
    "rf_clf = RandomForestClassifier(**params,random_state=42)\r\n",
    "rf_clf.fit(X_train, y_train)\r\n",
    "\r\n",
    "mlflow.set_experiment(experiment_name=\"finetune-creditrisk\")\r\n",
    "with mlflow.start_run(run_name=\"RandomForest_manualOptim\"):\r\n",
    "    # log params\r\n",
    "    params = rf_clf.get_params()\r\n",
    "    mlflow.log_param(\"n_estimators\", params[\"n_estimators\"])\r\n",
    "    mlflow.log_param(\"bootstrap\", params[\"bootstrap\"])\r\n",
    "    mlflow.log_param(\"min_samples_leaf\", params[\"min_samples_leaf\"])\r\n",
    "    mlflow.log_param(\"max_depth\", params[\"max_depth\"])\r\n",
    "\r\n",
    "    # log metrics\r\n",
    "    y_pred = rf_clf.predict_proba(X_test)[:,1]\r\n",
    "    mlflow.log_metric(\"auc\", roc_auc_score(y_test,y_pred))\r\n",
    "    mlflow.log_metric(\"f1-score\", f1_score(y_test, rf_clf.predict(X_test)))\r\n",
    "    \r\n",
    "    mlflow.sklearn.log_model(rf_clf, artifact_path=\"sklearn-model\",\r\n",
    "        registered_model_name=\"sk-learn-random-forest\")\r\n",
    "    \r\n",
    "    mlflow.log_artifact(local_path='data/one_hot_encoder.pkl', artifact_path=\"\")"
   ],
   "outputs": [],
   "metadata": {}
  },
  {
   "cell_type": "markdown",
   "source": [
    "#### Optimizing hyperparameters with Optuna"
   ],
   "metadata": {}
  },
  {
   "cell_type": "markdown",
   "source": [
    "<a href=https://optuna.readthedocs.io/en/stable/index.html> Optuna </a> is a hyperparameter fine-tuning framework.\n",
    "\n",
    "To use it, you first define a trial, a scoring function, and a set of hyperparameters to fine-tune, using 'suggest' methods.\n",
    "\n",
    "Then, you choose an heuristic and optuna will try different sets of hyperparameters and log the KPIs."
   ],
   "metadata": {}
  },
  {
   "cell_type": "code",
   "execution_count": null,
   "source": [
    "X_train, X_val, y_train, y_val = train_test_split(X_train, y_train, test_size=0.2, stratify = y_train, random_state=16)\r\n",
    "\r\n",
    "def objective_rf(trial):\r\n",
    "    rf_params = {\r\n",
    "            # Parameter space definition\r\n",
    "            #################################################################\r\n",
    "            # TODO: based on your previous results, set a \r\n",
    "            'n_estimators' : trial.suggest_int('n_estimators',low=...,high=...),\r\n",
    "            'max_depth' : trial.suggest_int('max_depth',low=...,high=...),\r\n",
    "            'bootstrap' : trial.suggest_categorical('bootstrap', []),\r\n",
    "            'min_samples_leaf' : trial.suggest_float(\"min_samples_leaf\", low = ..., high = ...)\r\n",
    "            #################################################################\r\n",
    "            }\r\n",
    "\r\n",
    "    rf_classifier = RandomForestClassifier(random_state=42)\r\n",
    "    rf_classifier.set_params(**rf_params)\r\n",
    "\r\n",
    "    rf_classifier.fit(X_train, y_train)\r\n",
    "\r\n",
    "    # Log metrics\r\n",
    "    y_pred = rf_classifier.predict(X_val)\r\n",
    "    score=f1_score(y_val, y_pred)\r\n",
    "    mlflow.log_metric(\"auc\", roc_auc_score(y_val,y_pred))\r\n",
    "    mlflow.log_metric(\"f1-score\", score)\r\n",
    "    return score"
   ],
   "outputs": [],
   "metadata": {}
  },
  {
   "cell_type": "code",
   "execution_count": null,
   "source": [
    "study = optuna.create_study(direction=\"maximize\")\r\n",
    "full_objective = lambda trial: objective_rf(trial)\r\n",
    "mlflow.set_experiment(experiment_name=\"finetune-creditrisk\")\r\n",
    "with mlflow.start_run(run_name=\"RandomForest_Finetuning_exp\"):\r\n",
    "    study.optimize(full_objective, n_trials=30, timeout=600)\r\n",
    "rf_params = study.best_trial.params"
   ],
   "outputs": [],
   "metadata": {}
  },
  {
   "cell_type": "markdown",
   "source": [
    "What is the difference between a train, validation, and test set. What are the risks if there is overlapping between the validation and test set?"
   ],
   "metadata": {}
  },
  {
   "cell_type": "markdown",
   "source": [
    "--------------------------\n",
    "ANSWER HERE\n",
    "\n",
    "--------------------------"
   ],
   "metadata": {}
  },
  {
   "cell_type": "code",
   "execution_count": null,
   "source": [
    "rf_classifier = RandomForestClassifier(random_state=42)\r\n",
    "rf_classifier.set_params(**rf_params)\r\n",
    "\r\n",
    "X_train_val, y_train_val = pd.concat((X_train, X_val)), pd.concat((y_train, y_val))\r\n",
    "\r\n",
    "rf_classifier.fit(X_train_val, y_train_val)\r\n",
    "with mlflow.start_run(run_name=\"RandomForest_Optimization\"):\r\n",
    "    # log params\r\n",
    "    mlflow.log_param(\"n_estimators\", rf_params[\"n_estimators\"])\r\n",
    "    mlflow.log_param(\"min_samples_leaf\", rf_params[\"min_samples_leaf\"])\r\n",
    "    mlflow.log_param(\"max_depth\", rf_params[\"max_depth\"])\r\n",
    "    mlflow.log_param('max_features', rf_params['max_features'])\r\n",
    "\r\n",
    "    # log metrics\r\n",
    "    y_pred = rf_classifier.predict_proba(X_test)[:,1]\r\n",
    "    mlflow.log_metric(\"auc\", roc_auc_score(y_test,y_pred))\r\n",
    "    mlflow.log_metric(\"f1-score\", f1_score(y_test, rf_classifier.predict(X_test)))\r\n",
    "    \r\n",
    "    mlflow.sklearn.log_model(rf_clf, artifact_path=\"sklearn-model\",\r\n",
    "        registered_model_name=\"sk-learn-random-forest-finetuned\")\r\n",
    "    mlflow.log_artifact(local_path='data/one_hot_encoder.pkl', artifact_path=\"\")"
   ],
   "outputs": [],
   "metadata": {}
  },
  {
   "cell_type": "markdown",
   "source": [
    "# Retrieves a model logged on MLFlow - on run_id"
   ],
   "metadata": {}
  },
  {
   "cell_type": "code",
   "execution_count": null,
   "source": [
    "import mlflow\n",
    "from IPython.display import display\n",
    "\n",
    "experiment_name = [\"finetune-creditrisk\"]\n",
    "run_name = \"RandomForest_Optimization\"\n",
    "\n",
    "# Search for the run using the experiment name and run name\n",
    "runs = mlflow.search_runs(experiment_names=experiment_name)\n",
    "\n",
    "display(runs)"
   ],
   "outputs": [],
   "metadata": {}
  },
  {
   "cell_type": "code",
   "execution_count": null,
   "source": [
    "last_run_id = runs.loc[runs[\"tags.mlflow.runName\"] == run_name]\n",
    "last_run_id.sort_values(by = [\"end_time\"], ascending=False, inplace=True)\n",
    "run_id = last_run_id.iloc[0][\"run_id\"]"
   ],
   "outputs": [],
   "metadata": {}
  },
  {
   "cell_type": "code",
   "execution_count": null,
   "source": [
    "# Retrieves a model from MLFlow\n",
    "model = mlflow.sklearn.load_model(f\"runs:/{run_id}/sklearn-model\")\n",
    "model.predict(X_test)"
   ],
   "outputs": [],
   "metadata": {}
  },
  {
   "cell_type": "markdown",
   "source": [
    "# Upgrades the model status"
   ],
   "metadata": {}
  },
  {
   "cell_type": "code",
   "execution_count": null,
   "source": [
    "from mlflow import MlflowClient\n",
    "\n",
    "client = MlflowClient()\n",
    "client.transition_model_version_stage(\n",
    "    name=\"sk-learn-random-forest-finetuned\", version=# TODO: choose the latest version based on the UI, stage=\"Production\"\n",
    ")"
   ],
   "outputs": [],
   "metadata": {}
  },
  {
   "cell_type": "markdown",
   "source": [
    "# Retrieves the model from the status"
   ],
   "metadata": {}
  },
  {
   "cell_type": "code",
   "execution_count": null,
   "source": [
    "import mlflow\n",
    "\n",
    "model_name = # TODO: Load the right model\n",
    "model_version = # TODO: load the right version\n",
    "model = mlflow.sklearn.load_model(model_uri=f\"models:/{model_name}/{model_version}\")"
   ],
   "outputs": [],
   "metadata": {}
  }
 ],
 "metadata": {
  "kernelspec": {
   "display_name": "Python 3",
   "language": "python",
   "name": "python3"
  },
  "language_info": {
   "codemirror_mode": {
    "name": "ipython",
    "version": 3
   },
   "file_extension": ".py",
   "mimetype": "text/x-python",
   "name": "python",
   "nbconvert_exporter": "python",
   "pygments_lexer": "ipython3",
   "version": "3.9.7"
  },
  "orig_nbformat": 4
 },
 "nbformat": 4,
 "nbformat_minor": 2
}